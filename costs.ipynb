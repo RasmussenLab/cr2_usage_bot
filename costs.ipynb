{
 "cells": [
  {
   "cell_type": "markdown",
   "metadata": {},
   "source": [
    "# Cost overview\n",
    "\n",
    "- parse usage output and calculate costs for an example\n",
    "\n",
    "- [ ] Check prices for CR2"
   ]
  },
  {
   "cell_type": "code",
   "execution_count": null,
   "metadata": {},
   "outputs": [],
   "source": [
    "import pprint\n",
    "import pathlib\n",
    "\n",
    "import yaml\n",
    "\n",
    "import pandas as pd\n",
    "\n",
    "TESTFILE = pathlib.Path('logs/') / 'usage_2022_02_10.txt'\n",
    "\n",
    "fpath = TESTFILE\n",
    "with open(fpath) as f:\n",
    "    report = next(f)\n",
    "    report += next(f)\n",
    "    headers = [filter(None, next(f).strip().split('  ')[1:])]\n",
    "    headers.append(filter(None, (next(f).strip().split('  '))))\n",
    "    headers = [f'{header_1.strip()} {header_2.strip()}' for header_1, header_2 in  zip(*headers)]\n",
    "    _ = next(f)\n",
    "    data = {}\n",
    "    for row in f:\n",
    "        if row.startswith('---'):\n",
    "            break\n",
    "        line = row.split()\n",
    "        data[line[0]] = {k:float(v) for k, v in zip(headers, line[1:])}\n",
    "    total = next(f).split()\n",
    "    storage = f.read().strip()\n",
    "\n",
    "print(report, headers, total, storage, sep='\\n')\n",
    "\n",
    "pprint.pprint(data)"
   ]
  },
  {
   "cell_type": "code",
   "execution_count": null,
   "metadata": {},
   "outputs": [],
   "source": [
    "storage_gb = int(storage.split(':')[1].split()[0])\n",
    "storage_gb"
   ]
  },
  {
   "cell_type": "code",
   "execution_count": null,
   "metadata": {},
   "outputs": [],
   "source": [
    "# {key.strip(): float(value) for key, value in zip(headers, total[1:])}\n",
    "_entry = {}\n",
    "for key, value in zip(headers, total[1:]):\n",
    "    try:\n",
    "        _entry[key.strip()] = int(value)\n",
    "    except ValueError:\n",
    "        _entry[key.strip()] = float(value)\n",
    "data[total[0].strip(':')] = _entry\n"
   ]
  },
  {
   "cell_type": "code",
   "execution_count": null,
   "metadata": {},
   "outputs": [],
   "source": [
    "df = pd.DataFrame(data).T\n",
    "df"
   ]
  },
  {
   "cell_type": "code",
   "execution_count": null,
   "metadata": {},
   "outputs": [],
   "source": [
    "with open('cr2_prices.yaml') as f:\n",
    "    prices = yaml.safe_load(f)\n",
    "prices"
   ]
  },
  {
   "cell_type": "code",
   "execution_count": null,
   "metadata": {},
   "outputs": [],
   "source": [
    "print(f\"Storage costs: {prices['storage_TB']*storage_gb/1024:.2f} DKK\")"
   ]
  },
  {
   "cell_type": "code",
   "execution_count": null,
   "metadata": {},
   "outputs": [],
   "source": [
    "costs = df[headers[0]] * prices['thin_node'] / 40\n",
    "costs = costs.to_frame('thin nodes')\n",
    "costs['fat nodes'] = df[headers[2]] * prices['fat_node'] / 80\n",
    "costs['gpu nodes'] = df[headers[4]] * prices['gpu_node']\n",
    "costs['total'] = costs.sum(axis=1)\n",
    "costs"
   ]
  }
 ],
 "metadata": {
  "interpreter": {
   "hash": "a3c193f136b3677f7a0d8b8f2344336d9d9fbcf8449c7b9fd96c2b5d44d3d77c"
  },
  "kernelspec": {
   "display_name": "Python 3.8.12 ('vaep')",
   "language": "python",
   "name": "python3"
  },
  "language_info": {
   "codemirror_mode": {
    "name": "ipython",
    "version": 3
   },
   "file_extension": ".py",
   "mimetype": "text/x-python",
   "name": "python",
   "nbconvert_exporter": "python",
   "pygments_lexer": "ipython3",
   "version": "3.8.12"
  },
  "orig_nbformat": 4
 },
 "nbformat": 4,
 "nbformat_minor": 2
}
