{
 "cells": [
  {
   "cell_type": "markdown",
   "metadata": {},
   "source": [
    "# Cost overview\n",
    "\n",
    "- parse usage output and calculate costs for an example\n",
    "\n",
    "- [ ] Check prices for CR2"
   ]
  },
  {
   "cell_type": "code",
   "execution_count": null,
   "metadata": {},
   "outputs": [],
   "source": [
    "import pprint\n",
    "import pathlib\n",
    "\n",
    "import yaml\n",
    "import pandas as pd\n",
    "\n",
    "from src.parser import parse_usage_output\n",
    "\n",
    "TESTFILE = pathlib.Path('logs/') / 'usage_2022_02_10.txt'\n",
    "\n",
    "usage = parse_usage_output(TESTFILE)\n",
    "print(*usage[:-1], sep='\\n') \n",
    "pprint.pprint(usage.data)"
   ]
  },
  {
   "cell_type": "code",
   "execution_count": null,
   "metadata": {},
   "outputs": [],
   "source": [
    "storage_gb = int(usage.storage.split(':')[1].split()[0])\n",
    "storage_gb"
   ]
  },
  {
   "cell_type": "code",
   "execution_count": null,
   "metadata": {},
   "outputs": [],
   "source": [
    "# {key.strip(): float(value) for key, value in zip(headers, total[1:])}\n",
    "_total = {}\n",
    "for key, value in zip(usage.headers, usage.total[1:]):\n",
    "    try:\n",
    "        _total[key.strip()] = int(value)\n",
    "    except ValueError:\n",
    "        _total[key.strip()] = float(value)\n",
    "usage.data[usage.total[0].strip(':')] = _total\n",
    "data = usage.data\n"
   ]
  },
  {
   "cell_type": "code",
   "execution_count": null,
   "metadata": {},
   "outputs": [],
   "source": [
    "df = pd.DataFrame(data).T\n",
    "df"
   ]
  },
  {
   "cell_type": "code",
   "execution_count": null,
   "metadata": {},
   "outputs": [],
   "source": [
    "with open('cr2_prices.yaml') as f:\n",
    "    prices = yaml.safe_load(f)\n",
    "prices"
   ]
  },
  {
   "cell_type": "code",
   "execution_count": null,
   "metadata": {},
   "outputs": [],
   "source": [
    "print(f\"Storage costs: {prices['storage_TB']*storage_gb/1024:.2f} DKK\")"
   ]
  },
  {
   "cell_type": "code",
   "execution_count": null,
   "metadata": {},
   "outputs": [],
   "source": [
    "costs = df[usage.headers[0]] * prices['thin_node'] / 40\n",
    "costs = costs.to_frame('thin nodes')\n",
    "costs['fat nodes'] = df[usage.headers[2]] * prices['fat_node'] / 40\n",
    "costs['gpu nodes'] = df[usage.headers[4]] * prices['gpu_node'] / 40 \n",
    "costs['total'] = costs.sum(axis=1)\n",
    "costs.columns.name = 'in DKK:'\n",
    "costs.index.name = 'user:'\n",
    "costs"
   ]
  },
  {
   "cell_type": "code",
   "execution_count": null,
   "metadata": {},
   "outputs": [],
   "source": [
    "msg = f\"```\\n{costs.to_string(float_format='{:.1f}'.format)}\\n```\"\n",
    "print(msg)"
   ]
  }
 ],
 "metadata": {
  "interpreter": {
   "hash": "a3c193f136b3677f7a0d8b8f2344336d9d9fbcf8449c7b9fd96c2b5d44d3d77c"
  },
  "kernelspec": {
   "display_name": "Python 3.8.12 ('vaep')",
   "language": "python",
   "name": "python3"
  },
  "language_info": {
   "codemirror_mode": {
    "name": "ipython",
    "version": 3
   },
   "file_extension": ".py",
   "mimetype": "text/x-python",
   "name": "python",
   "nbconvert_exporter": "python",
   "pygments_lexer": "ipython3",
   "version": "3.8.8"
  },
  "orig_nbformat": 4
 },
 "nbformat": 4,
 "nbformat_minor": 2
}
